{
 "cells": [
  {
   "cell_type": "markdown",
   "metadata": {},
   "source": [
    "# Setup"
   ]
  },
  {
   "cell_type": "code",
   "execution_count": 2,
   "metadata": {},
   "outputs": [],
   "source": [
    "import numpy as np\n",
    "from groq import Groq\n",
    "import os\n",
    "\n",
    "from dotenv import load_dotenv\n",
    "from langchain_community.vectorstores import Chroma\n",
    "from langchain.text_splitter import TokenTextSplitter\n",
    "from langchain.docstore.document import Document\n",
    "from langchain_community.embeddings.sentence_transformer import SentenceTransformerEmbeddings\n",
    "from sklearn.metrics.pairwise import cosine_similarity\n",
    "from IPython.display import display, HTML\n",
    "from langchain_community.document_loaders import DirectoryLoader, TextLoader"
   ]
  },
  {
   "cell_type": "code",
   "execution_count": 3,
   "metadata": {},
   "outputs": [],
   "source": [
    "load_dotenv()\n",
    "groq_api_key = os.getenv(\"GROQ_API_KEY\")\n",
    "\n",
    "client = Groq(api_key=groq_api_key)\n",
    "model = \"mixtral-8x7b-32768\"\n",
    "\n",
    "loader = DirectoryLoader(\"./data/\", use_multithreading=True, loader_cls=TextLoader)\n",
    "documents = loader.load()"
   ]
  },
  {
   "cell_type": "markdown",
   "metadata": {},
   "source": [
    "# V1"
   ]
  },
  {
   "cell_type": "code",
   "execution_count": 5,
   "metadata": {},
   "outputs": [
    {
     "name": "stderr",
     "output_type": "stream",
     "text": [
      "/Users/maxxyung/Documents/Master Documents/004 Coding Projects/contrary/.venv/lib/python3.12/site-packages/langchain_core/_api/deprecation.py:119: LangChainDeprecationWarning: The class `HuggingFaceEmbeddings` was deprecated in LangChain 0.2.2 and will be removed in 0.3.0. An updated version of the class exists in the langchain-huggingface package and should be used instead. To use it run `pip install -U langchain-huggingface` and import as `from langchain_huggingface import HuggingFaceEmbeddings`.\n",
      "  warn_deprecated(\n",
      "/Users/maxxyung/Documents/Master Documents/004 Coding Projects/contrary/.venv/lib/python3.12/site-packages/sentence_transformers/cross_encoder/CrossEncoder.py:11: TqdmWarning: IProgress not found. Please update jupyter and ipywidgets. See https://ipywidgets.readthedocs.io/en/stable/user_install.html\n",
      "  from tqdm.autonotebook import tqdm, trange\n",
      "/Users/maxxyung/Documents/Master Documents/004 Coding Projects/contrary/.venv/lib/python3.12/site-packages/huggingface_hub/file_download.py:1132: FutureWarning: `resume_download` is deprecated and will be removed in version 1.0.0. Downloads always resume when possible. If you want to force a new download, use `force_download=True`.\n",
      "  warnings.warn(\n"
     ]
    }
   ],
   "source": [
    "# Extract text from each document using the 'page_content' attribute\n",
    "texts = [doc.page_content for doc in documents]\n",
    "\n",
    "text_splitter = TokenTextSplitter(\n",
    "    chunk_size=500,  # 500 tokens is the max\n",
    "    chunk_overlap=20  # Overlap of N tokens between chunks (to reduce chance of cutting out relevant connected text like middle of sentence)\n",
    ")\n",
    "\n",
    "# Join texts into a single string\n",
    "joined_text = \" \".join(texts)\n",
    "chunks = text_splitter.split_text(joined_text)\n",
    "\n",
    "chunk_embeddings = []\n",
    "embedding_function = SentenceTransformerEmbeddings(model_name=\"all-MiniLM-L6-v2\")\n",
    "for chunk in chunks:\n",
    "    chunk_embeddings.append(embedding_function.embed_query(chunk))"
   ]
  },
  {
   "cell_type": "code",
   "execution_count": 107,
   "metadata": {},
   "outputs": [
    {
     "data": {
      "text/html": [
       " genres include piano, acoustic, and classical.\n",
       "The “for work” section of the Calm app includes various features that aim to support employees. Featured sessions include suggestions and guidance from Jay Shetty, who joined Calm as “Chief Purpose Officer” and is a popular mindfulness teacher, coach, and author. Sessions center around topics like “perfectionism” or “people pleasing”, while other sections include other guided sessions to refresh and reboot. There are categories that aim to manage feeling overwhelmed, getting focused again, finding work life balance, becoming motivated, and professional growth.\n",
       "The wisdom section in the Calm app includes guided sessions, many of which come from Calm’s Chief Purpose Officer Jay Shetty. His show on Calm, The Daily Jay, covers a wide variety of topics and is meant to make meditation accessible for everyone. The section also includes inspiring stories from celebrities and public figures, as well as Masterclasses on issues like radical self-compassion, breaking bad habits, or “stoic wisdom for modern life” from figures like Ryan Holiday.\n",
       "The Calm app also includes a special section for kids, which includes stories that feature popular children’s characters Peppa Pig or Po from Kung Fu Panda, as well as classics like Peter Pan and Winnie the Pooh. There are also meditations, lullabies, and soundscapes specifically curated for kids.\n",
       "The last section within the Calm app is for movement, which is dedicated to physical wellness in addition to mental wellness. Calm recruited Mel Mah, a yoga instructor, to guide users through daily movement exercises, usually five-minute flows. These can be filtered down into specific categories like walking or lying down.\n",
       "Calm’s Business offering includes various solutions for employers and gives employees access to premium content, Calm Workshops, and management resources.\n",
       "Calm Workshops cover important mental health and wellness topics through interactive sessions that range from 15 to 90 minutes. Some examples include “The Power of Resilience” and “Building a Strengths-Based Culture”. These workshops are delivered through experienced facilitators who can be scheduled and oriented towards each organization’s goals, and the workshop includes a resource guide for employees to utilize in the future.\n",
       "The health and wellness advisors who design and administer Calm Workshops include national board-certified health and wellness coaches, facilitators with professional diversity, equity, and inclusion"
      ],
      "text/plain": [
       "<IPython.core.display.HTML object>"
      ]
     },
     "metadata": {},
     "output_type": "display_data"
    },
    {
     "data": {
      "text/plain": [
       "'Calm is a digital health and wellness company that offers various features to support user\\'s mental and emotional well-being. The \"for work\" section of the Calm app includes content aimed at supplementing employee wellness programs. This includes features like sleep aids, meditation sessions, and relaxation exercises (Memo 1). Calm has secured several sessions centered around \"chief purpose officer\" Jay Shetty, who joined Calm as a popular mindfulness influencer and is now a popularity metric for the app (Memo 1). Calm\\'s sessions aim to improve feelings of wellness, reduce stress, and help users relax (Memo 1).\\n\\nIn addition to these features, Calm offers masterclasses led by experts, sleep aids, and guided meditations, as well as various programs for users to engage with in order to promote mental well-being (Memo 2). Calm has also developed partnerships with companies to offer services to their employees, and has integrated its services into workplace wellness programs (Memo 2).\\n\\nGiven this information, Calm appears to be a digital platform that supports users\\' mental and emotional well-being through a variety of features such as meditation and sleep aids, as well as programs and classes led by experts in mental health. They also aim to support workplace wellness programs by offering services to employees.'"
      ]
     },
     "execution_count": 107,
     "metadata": {},
     "output_type": "execute_result"
    }
   ],
   "source": [
    "def contrary_memo_chat(client, model, user_question, relevant_excerpts):\n",
    "    # Convert the list of relevant excerpts to a single string\n",
    "    relevant_excerpts_str = \"\\n\\n\".join(relevant_excerpts)\n",
    "    \n",
    "    chat_completion = client.chat.completions.create(\n",
    "        messages=[\n",
    "            {\n",
    "                \"role\": \"system\",\n",
    "                \"content\": \"You are an expert venture analyst. Given the user's question and relevant excerpts from venture research memos, answer the question by including direct quotes from the memos. When using a quote, site the memo that it was from (ignoring the chunk).\" \n",
    "            },\n",
    "            {\n",
    "                \"role\": \"user\",\n",
    "                \"content\": f\"User Question: {user_question}\\n\\nRelevant Memo Excerpt(s):\\n\\n{relevant_excerpts_str}\",\n",
    "            }\n",
    "        ],\n",
    "        model=model\n",
    "    )\n",
    "\n",
    "    response = chat_completion.choices[0].message.content\n",
    "    return response\n",
    "\n",
    "user_question = \"What does Calm do?\"\n",
    "prompt_embeddings = embedding_function.embed_query(user_question) \n",
    "similarities = cosine_similarity([prompt_embeddings], chunk_embeddings)[0] \n",
    "closest_similarity_index = np.argmax(similarities) \n",
    "most_relevant_chunk = chunks[closest_similarity_index]\n",
    "display(HTML(most_relevant_chunk))\n",
    "contrary_memo_chat(client, model, user_question, most_relevant_chunk)"
   ]
  },
  {
   "cell_type": "markdown",
   "metadata": {},
   "source": [
    "# V2"
   ]
  },
  {
   "cell_type": "code",
   "execution_count": 6,
   "metadata": {},
   "outputs": [
    {
     "name": "stdout",
     "output_type": "stream",
     "text": [
      "2467\n"
     ]
    }
   ],
   "source": [
    "documents = []\n",
    "for filename in os.listdir(\"./data/\"):\n",
    "    if filename.endswith(\".txt\"):\n",
    "        with open(os.path.join(\"./data/\", filename), 'r', encoding='utf-8') as file:\n",
    "            content = file.read()\n",
    "            chunks = text_splitter.split_text(content)\n",
    "            total_chunks = len(chunks)\n",
    "            for chunk_num in range(1,total_chunks+1):\n",
    "                chunk = chunks[chunk_num-1]\n",
    "                documents.append(Document(page_content=chunk, metadata={\"source\": \"local\"}))\n",
    "\n",
    "print(len(documents))\n",
    "docsearch = Chroma.from_documents(documents, embedding_function)"
   ]
  },
  {
   "cell_type": "code",
   "execution_count": 8,
   "metadata": {},
   "outputs": [
    {
     "data": {
      "text/plain": [
       "'Ramp is a company that offers automated expense management, procurement, and payment solutions to businesses of all sizes. It provides features such as complex approval chains, automated memo suggestions, receipt handling, and time-saving tools. Ramp has experienced significant growth in recent years, with a large increase in accounts payable spend, purchase volume, revenue, and customer base. It has also launched a corporate travel tool and announced the forthcoming launch of an AI agent for customer education.'"
      ]
     },
     "execution_count": 8,
     "metadata": {},
     "output_type": "execute_result"
    }
   ],
   "source": [
    "def contrary_memo_chat(client, model, user_question, relevant_excerpts):\n",
    "    chat_completion = client.chat.completions.create(\n",
    "        messages=[\n",
    "            {\n",
    "                \"role\": \"system\",\n",
    "                \"content\": \"You are an expert venture analyst. Given the user's question, use the relevant excerpts to answer the question in two sentences.\"\n",
    "            },\n",
    "            {\n",
    "                \"role\": \"user\",\n",
    "                \"content\": f\"User Question: {user_question}. Excerpts: {relevant_excerpts}\",\n",
    "            }\n",
    "        ],\n",
    "        model=model\n",
    "    )\n",
    "\n",
    "    response = chat_completion.choices[0].message.content\n",
    "    return response\n",
    "\n",
    "user_question = \"What does Ramp do?\"\n",
    "relevant_excerpts = docsearch.similarity_search(user_question)\n",
    "# print(relevant_excerpts)\n",
    "contrary_memo_chat(client, model, user_question, relevant_excerpts)"
   ]
  }
 ],
 "metadata": {
  "kernelspec": {
   "display_name": ".venv",
   "language": "python",
   "name": "python3"
  },
  "language_info": {
   "codemirror_mode": {
    "name": "ipython",
    "version": 3
   },
   "file_extension": ".py",
   "mimetype": "text/x-python",
   "name": "python",
   "nbconvert_exporter": "python",
   "pygments_lexer": "ipython3",
   "version": "3.12.3"
  }
 },
 "nbformat": 4,
 "nbformat_minor": 2
}
